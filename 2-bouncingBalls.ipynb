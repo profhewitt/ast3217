{
 "cells": [
  {
   "cell_type": "markdown",
   "metadata": {},
   "source": [
    "# Bouncing Balls\n",
    "\n",
    "### AIM - To implement a simple time driven model and visualise it\n",
    "\n",
    "Adapted from work by Dimitrios Theodorakis, Tom Aldcroft, Tom Robitaille, Brian Refsdal, Gus Muench, Smithsonian Astrophysical Observatory\n",
    "https://python4astronomers.github.io/index.html\n",
    "\n",
    "## Running the code:\n",
    "\n",
    "*Shift+Enter* on a code snippet to run the code. Most of the time you'll have to run the snippets in order or you'll get an error.\n",
    "\n",
    "If you're stuck you can consult the docs at https://docs.python.org/3/, and https://numpy.org/doc/stable/.  \n",
    "You can also get advice from www.stackoverflow.com.\n",
    "Remember to comment your code!\n",
    "\n",
    "Now import everything we will need:"
   ]
  },
  {
   "cell_type": "code",
   "execution_count": null,
   "metadata": {},
   "outputs": [],
   "source": [
    "from numpy.random import default_rng       # numpy random value generator\n",
    "import matplotlib.pyplot as plt            # plotting library matpotlib\n",
    "import matplotlib.animation as animation   # matplotlib animations library\n",
    "from IPython.display import HTML, Image    # to convert our animation to HTML for display\n",
    "# needed to run matplotlib on JupyterLab\n",
    "%matplotlib inline "
   ]
  },
  {
   "cell_type": "markdown",
   "metadata": {},
   "source": [
    "## Setting up our Variables\n",
    "After you import the libraries we need you should set up your variables and constants.\n",
    "\n",
    "We are going to make an animation of some Bouncing Balls using the matplotlib plotting library.\n",
    "\n",
    "First we define our ball properties. We need the number of balls, their position, velocity, and size.\n",
    "\n",
    "**Hint** - Try printing some of these variable to see their shape."
   ]
  },
  {
   "cell_type": "code",
   "execution_count": null,
   "metadata": {},
   "outputs": [],
   "source": [
    "n = 10 # number of balls\n",
    "rng = default_rng() # random number generator\n",
    "pos = (20 * rng.random(n*2) - 10).reshape(n, 2) # positions, this is a 2-D array becuase we need x and y positions\n",
    "vel = (0.3 * rng.random(size=n*2)).reshape(n, 2) # velocities, again 2-D for velocities in the x and y directions\n",
    "\n",
    "# lets define the marker sizes as well for our plot\n",
    "# create an array of length n with random numbers, Hint - times it by 100 and also add 100 to make the markers a decent size\n",
    "# Your code here:\n",
    "sizes = \n",
    "\n",
    "# set up random colours for our balls\n",
    "colors = rng.random([n, 4])"
   ]
  },
  {
   "cell_type": "markdown",
   "metadata": {},
   "source": [
    "## Setting up the Plot\n",
    "\n",
    "Plotting with matplotlib is simple enough. Matplotlib is a very powerful tool which we will be using alongside other plotting libraries to make scatter plots, line plots, and other visualisations.\n",
    "\n",
    "https://matplotlib.org/"
   ]
  },
  {
   "cell_type": "code",
   "execution_count": null,
   "metadata": {},
   "outputs": [],
   "source": [
    "# set up the initial plot to be updated by the animation\n",
    "# set up your first figure, Figure 1 so num=1, declare a figure size\n",
    "fig = plt.figure(num=1, figsize=(5,5))\n",
    "# set up the axes and their limits (lower, upper)\n",
    "ax = plt.axes(xlim=(-n,n), ylim=(-n,n))\n",
    "# plot the balls start positions\n",
    "# plt.scatter(x,y) where we have added details about the marker/point design, size, and colour\n",
    "circles = plt.scatter(pos[:,0], pos[:,1], marker='o', s=sizes, c=colors)"
   ]
  },
  {
   "cell_type": "markdown",
   "metadata": {},
   "source": [
    "## Defining a Function\n",
    "\n",
    "Now we have the initial positions of our balls on a pretty plot. We are going to define a function to animate it.\n",
    "\n",
    "Functions are defined like this:\n",
    "```python\n",
    "def myFucntion(x):\n",
    "    y = x**2\n",
    "    return y\n",
    "```\n",
    "This function takes a variable x, and returns the square of that variable.  \n",
    "We can call the function by typing:\n",
    "```python\n",
    "myFunction(2)\n",
    "```\n",
    "This would return 2 squared.\n",
    "\n",
    "Our function is a bit more complicated:"
   ]
  },
  {
   "cell_type": "code",
   "execution_count": null,
   "metadata": {},
   "outputs": [],
   "source": [
    "def animate(i):\n",
    "    # This global declaration lets us alter the pos variable which we defined outside of this function\n",
    "    global pos                  \n",
    "    # This is shorthand for pos = pos+vel, we are updating our positions using the velocities\n",
    "    pos += vel\n",
    "    # Find balls that are outside walls\n",
    "    # This returns an array of True and False, True where the abs(pos) value is greater than 10\n",
    "    bounce = abs(pos) > 10      \n",
    "    # Bounce if outside the walls (ie change the direction of their velocities)\n",
    "    # An example of using a mask to change only the elements which meet a certain criteria\n",
    "    # In this case it will only change the sign of velocities for balls where bounce is True\n",
    "    vel[bounce] = -vel[bounce]  \n",
    "    circles.set_offsets(pos)    # Update the positions of our balls\n",
    "    return circles              # Return the updated scatter plot"
   ]
  },
  {
   "cell_type": "markdown",
   "metadata": {},
   "source": [
    "## Animating\n",
    "\n",
    "Now we can animate our plot using the animate function.  \n",
    "We already have our starting plot so the animate function will update the plot for us.\n",
    "\n",
    "We will use the ```animation.FuncAnimation()``` function to automate this process.\n",
    "\n",
    "It takes the figure to animate (fig), the animation function (animate), the number of frames, and the frame interval in ms as arguments:"
   ]
  },
  {
   "cell_type": "code",
   "execution_count": null,
   "metadata": {},
   "outputs": [],
   "source": [
    "anim = animation.FuncAnimation(fig, animate, frames=100, interval=100)"
   ]
  },
  {
   "cell_type": "markdown",
   "metadata": {},
   "source": [
    "To display the animation in an interactive notebook we have to use:"
   ]
  },
  {
   "cell_type": "code",
   "execution_count": null,
   "metadata": {},
   "outputs": [],
   "source": [
    "HTML(anim.to_jshtml())"
   ]
  },
  {
   "cell_type": "markdown",
   "metadata": {},
   "source": [
    "In the **.py** version of this file the ```to_jshtml()``` function call is not necessary and we use the standard way of showing plots using ```plt.show()``` after the anim variable declaration.  \n",
    "The **.py** version also includes an ```anim.save()``` call which lets you save the animation as a gif (this requires that you've installed the program ImageMagick).\n",
    "\n",
    "## Saving the Animation in Jupyter\n",
    "\n",
    "The following code lets us save the animation in Jupyter:  \n",
    "(This may take a few minutes)"
   ]
  },
  {
   "cell_type": "code",
   "execution_count": null,
   "metadata": {},
   "outputs": [],
   "source": [
    "anim.save('bouncingBalls.gif', writer='imagemagick', fps=60)"
   ]
  },
  {
   "cell_type": "markdown",
   "metadata": {},
   "source": [
    "You should now see the file **bouncingBalls.gif** in the file pane on the right!   \n",
    "Let's load it:"
   ]
  },
  {
   "cell_type": "code",
   "execution_count": null,
   "metadata": {},
   "outputs": [],
   "source": [
    "Image(url=\"bouncingBalls.gif\")"
   ]
  },
  {
   "cell_type": "markdown",
   "metadata": {},
   "source": [
    "# Challenge\n",
    "\n",
    "Take this base code and update it somehow.  \n",
    "Some suggestions as follows:\n",
    "\n",
    "* Change the markers to Hexagons\n",
    "* Destroy balls which hit the edges\n",
    "* If balls hit the edges move them to the opposite side (wrap the walls)\n",
    "* Introduce gravity"
   ]
  },
  {
   "cell_type": "code",
   "execution_count": null,
   "metadata": {},
   "outputs": [],
   "source": [
    "# Decide what you are going to change, describe it, then add code below\n",
    "# Remember google is your friend as is stackoverflow and the matplotlib docs\n",
    "# Your code here:\n"
   ]
  },
  {
   "cell_type": "markdown",
   "metadata": {},
   "source": [
    "## My New Code! \n",
    "\n",
    "Described here..."
   ]
  },
  {
   "cell_type": "code",
   "execution_count": null,
   "metadata": {},
   "outputs": [],
   "source": []
  },
  {
   "cell_type": "code",
   "execution_count": null,
   "metadata": {},
   "outputs": [],
   "source": []
  },
  {
   "cell_type": "code",
   "execution_count": null,
   "metadata": {},
   "outputs": [],
   "source": []
  },
  {
   "cell_type": "code",
   "execution_count": null,
   "metadata": {},
   "outputs": [],
   "source": []
  },
  {
   "cell_type": "code",
   "execution_count": null,
   "metadata": {},
   "outputs": [],
   "source": []
  },
  {
   "cell_type": "code",
   "execution_count": null,
   "metadata": {},
   "outputs": [],
   "source": []
  },
  {
   "cell_type": "code",
   "execution_count": null,
   "metadata": {},
   "outputs": [],
   "source": []
  }
 ],
 "metadata": {
  "kernelspec": {
   "display_name": "Python 3",
   "language": "python",
   "name": "python3"
  },
  "language_info": {
   "codemirror_mode": {
    "name": "ipython",
    "version": 3
   },
   "file_extension": ".py",
   "mimetype": "text/x-python",
   "name": "python",
   "nbconvert_exporter": "python",
   "pygments_lexer": "ipython3",
   "version": "3.6.8"
  }
 },
 "nbformat": 4,
 "nbformat_minor": 4
}
