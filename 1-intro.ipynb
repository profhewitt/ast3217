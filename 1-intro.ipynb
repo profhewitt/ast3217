{
 "cells": [
  {
   "cell_type": "markdown",
   "metadata": {},
   "source": [
    "# Intro to Python\n",
    "\n",
    "### AIM - To introduce students to python and Numpy\n",
    "\n",
    "The purpose of this Notebook is to get you ready to explore the other Notebooks which each explore a topic in Astronomy and Astrophysics using the python programing language. By the end of this Notebook you will be able to create and manipulate arrays of data (or at least have this notebook as a handy reference).\n",
    "\n",
    "## Start:\n",
    "\n",
    "*Shift+Enter* on a code snippet to run the code. Most of the time you'll have to run the snippets in order or you'll get an error.\n",
    "\n",
    "If you're stuck you can consult the docs at https://docs.python.org/3/, and https://numpy.org/doc/stable/.  \n",
    "You can also get advice from www.stackoverflow.com.\n",
    "\n",
    "**Comments** - All code should be commented for readability"
   ]
  },
  {
   "cell_type": "code",
   "execution_count": null,
   "metadata": {},
   "outputs": [],
   "source": [
    "# This is a single line comment\n",
    "'''This is a \n",
    "multiline comment'''"
   ]
  },
  {
   "cell_type": "markdown",
   "metadata": {},
   "source": [
    "**Variables** - Assigning a variable. The dot says we want a float (decimal) not an integer. For b we assigned a string."
   ]
  },
  {
   "cell_type": "code",
   "execution_count": null,
   "metadata": {},
   "outputs": [],
   "source": [
    "a = 2\n",
    "a = 2.\n",
    "b = \"Hello World!\"\n",
    "# Store your name in a new variable as a string\n",
    "# Your code here:\n"
   ]
  },
  {
   "cell_type": "markdown",
   "metadata": {},
   "source": [
    "**Printing** - Print a variable (or anything else) using the print() fucntion."
   ]
  },
  {
   "cell_type": "code",
   "execution_count": null,
   "metadata": {},
   "outputs": [],
   "source": [
    "print(b)\n",
    "# Print a below\n",
    "# Your code here:\n"
   ]
  },
  {
   "cell_type": "markdown",
   "metadata": {},
   "source": [
    "**Maths** - Basic operators in python. Addition, subtraction, multiplication, division, and powers."
   ]
  },
  {
   "cell_type": "code",
   "execution_count": null,
   "metadata": {},
   "outputs": [],
   "source": [
    "c = 2+2\n",
    "d = 2-2\n",
    "e = 2*2\n",
    "f = 2/2\n",
    "g = 2**2\n",
    "# Print d minus g\n",
    "# Your code here:\n"
   ]
  },
  {
   "cell_type": "markdown",
   "metadata": {},
   "source": [
    "**Print Text and Numbers** - Use str() to convert the number to a string first and join the two strings together."
   ]
  },
  {
   "cell_type": "code",
   "execution_count": null,
   "metadata": {},
   "outputs": [],
   "source": [
    "print(\"My number is: \"+str(c))"
   ]
  },
  {
   "cell_type": "markdown",
   "metadata": {},
   "source": [
    "**Lists** - A list of numbers or strings or anything else!"
   ]
  },
  {
   "cell_type": "code",
   "execution_count": null,
   "metadata": {},
   "outputs": [],
   "source": [
    "myList = [1,2,3,4,5]\n",
    "print(myList)\n",
    "# Create a new list with your favourite foods (as strings this time not numbers)\n",
    "# Your code here:\n"
   ]
  },
  {
   "cell_type": "markdown",
   "metadata": {},
   "source": [
    "Append to the list (at the end)"
   ]
  },
  {
   "cell_type": "code",
   "execution_count": null,
   "metadata": {},
   "outputs": [],
   "source": [
    "myList.append(6)\n",
    "print(myList)\n",
    "# Add another food to the favourite food list you made above\n",
    "# Your code here:\n"
   ]
  },
  {
   "cell_type": "markdown",
   "metadata": {},
   "source": [
    "**Tuples** - These are like lists but cannot be changed once created."
   ]
  },
  {
   "cell_type": "code",
   "execution_count": null,
   "metadata": {},
   "outputs": [],
   "source": [
    "myTuple = (1,2,3,4)\n",
    "print(myTuple)\n",
    "# Create a tuple with lists inside and print it, put anything you want in the lists\n",
    "# Your code here:\n"
   ]
  },
  {
   "cell_type": "markdown",
   "metadata": {},
   "source": [
    "**Indexing** - Access an element in a list/tuple using its index. The first element is at index 0. You can also use negative indices and select multiple elements at once using a slice."
   ]
  },
  {
   "cell_type": "code",
   "execution_count": null,
   "metadata": {},
   "outputs": [],
   "source": [
    "print(myList[0])\n",
    "print(myList[1])\n",
    "\n",
    "print(myList[-1])\n",
    "print(myList[-2])\n",
    "\n",
    "print(myList[0:3])\n",
    "\n",
    "# Print the last food in your favourite food list\n",
    "# Your code here:\n"
   ]
  },
  {
   "cell_type": "markdown",
   "metadata": {},
   "source": [
    "**For Loops** - A for loop will do something (in this case print()) for each element (i) in the list/tuple."
   ]
  },
  {
   "cell_type": "code",
   "execution_count": null,
   "metadata": {},
   "outputs": [],
   "source": [
    "for i in myList:\n",
    "    print(i)\n",
    "\n",
    "# Create a new for loop to print out each element in your favourite food list\n",
    "# Your code here:\n"
   ]
  },
  {
   "cell_type": "markdown",
   "metadata": {},
   "source": [
    "**Numpy Library** - A library is a set of pre-made functions that you can call on in your code.  \n",
    "The Numpy library is a very useful maths library. We can import it using the code below. The *as np* means we can just write *np* after importing instead of the full name *numpy*."
   ]
  },
  {
   "cell_type": "code",
   "execution_count": null,
   "metadata": {},
   "outputs": [],
   "source": [
    "import numpy as np"
   ]
  },
  {
   "cell_type": "markdown",
   "metadata": {},
   "source": [
    "**Arrays** - A numpy array is generally faster than a list."
   ]
  },
  {
   "cell_type": "code",
   "execution_count": null,
   "metadata": {},
   "outputs": [],
   "source": [
    "array1 = np.arange(1,11)\n",
    "print(array1)\n",
    "# Create an array from 11 to 20\n",
    "# Your code here:\n"
   ]
  },
  {
   "cell_type": "markdown",
   "metadata": {},
   "source": [
    "**Dtypes** - Data types include int (integers), float (decimals), lists, tuples, and arrays."
   ]
  },
  {
   "cell_type": "code",
   "execution_count": null,
   "metadata": {},
   "outputs": [],
   "source": [
    "print(type(array1))\n",
    "# notice the difference between that and the type for myList\n",
    "print(type(myList))"
   ]
  },
  {
   "cell_type": "markdown",
   "metadata": {},
   "source": [
    "**For Loop on Arrays**"
   ]
  },
  {
   "cell_type": "code",
   "execution_count": null,
   "metadata": {},
   "outputs": [],
   "source": [
    "for i in array1:\n",
    "    print(i*2) # times each element by 2\n",
    "# Make a for loop to calculate the cube of each element\n",
    "# Your code here:\n"
   ]
  },
  {
   "cell_type": "markdown",
   "metadata": {},
   "source": [
    "**Maths on an Array** - Operations can be performed on each element of an array."
   ]
  },
  {
   "cell_type": "code",
   "execution_count": null,
   "metadata": {},
   "outputs": [],
   "source": [
    "array2 = array1*2\n",
    "print(array2)\n",
    "# Calculate the square root of array 2 and print it\n",
    "# Your code here:\n"
   ]
  },
  {
   "cell_type": "markdown",
   "metadata": {},
   "source": [
    "**Linspace** - Another more controlled way of creating an array using a start, end, and number of points variables."
   ]
  },
  {
   "cell_type": "code",
   "execution_count": null,
   "metadata": {},
   "outputs": [],
   "source": [
    "start = 0\n",
    "finish = 5\n",
    "step = 0.5\n",
    "number = int((finish - start) / step) + 1\n",
    "\n",
    "array3 = np.linspace(start, finish, number)\n",
    "print(array3)\n",
    "# Create and print a new array from 5 to 7 with any number of elements\n",
    "# Your code here:\n"
   ]
  },
  {
   "cell_type": "markdown",
   "metadata": {},
   "source": [
    "**2-D Arrays** - You can create 2-D arrays by specifying a shape. Normally we initialise an array using ones or zeros then change the values inside."
   ]
  },
  {
   "cell_type": "code",
   "execution_count": null,
   "metadata": {},
   "outputs": [],
   "source": [
    "array4 = np.zeros((2,2))\n",
    "array5 = np.ones((2,2))\n",
    "\n",
    "print(array4)\n",
    "print(array5)\n",
    "\n",
    "# accessing a 2-D array [row, column], remember the first element is at index 0\n",
    "print(\"-----\")\n",
    "print(array4[1,1])\n",
    "\n",
    "# setting values in a 2-D array\n",
    "print(\"-----\")\n",
    "array4[1,1] = 1\n",
    "print(array4)"
   ]
  },
  {
   "cell_type": "markdown",
   "metadata": {},
   "source": [
    "**Maths with Numpy** - Numpy has very useful maths functions. We can't list them all here but you can access the number pi and compute logs easily enough."
   ]
  },
  {
   "cell_type": "code",
   "execution_count": null,
   "metadata": {},
   "outputs": [],
   "source": [
    "print(np.pi)\n",
    "print(np.log(10))"
   ]
  },
  {
   "cell_type": "markdown",
   "metadata": {},
   "source": [
    "## Over to You\n",
    "\n",
    "**Task 1:** Create a ranked list with 3 of your favorite books (I won't hold you to this list). Print the list.  \n",
    "**Task 2:** Print just your third favorite book.  \n",
    "**Task 3:** Create an array using arange of the numbers 1-4. Print the square of those numbers.  \n",
    "**Task 4:** Create a new 2-D array of zeros with size (3,3). Set the diagonals to 1 and print the array."
   ]
  },
  {
   "cell_type": "code",
   "execution_count": null,
   "metadata": {},
   "outputs": [],
   "source": [
    "# Your code here:\n"
   ]
  }
 ],
 "metadata": {
  "kernelspec": {
   "display_name": "Python 3",
   "language": "python",
   "name": "python3"
  },
  "language_info": {
   "codemirror_mode": {
    "name": "ipython",
    "version": 3
   },
   "file_extension": ".py",
   "mimetype": "text/x-python",
   "name": "python",
   "nbconvert_exporter": "python",
   "pygments_lexer": "ipython3",
   "version": "3.6.8"
  }
 },
 "nbformat": 4,
 "nbformat_minor": 4
}
